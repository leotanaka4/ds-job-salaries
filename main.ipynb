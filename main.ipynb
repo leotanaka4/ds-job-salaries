{
 "cells": [
  {
   "cell_type": "markdown",
   "metadata": {},
   "source": [
    "# Data Science Job Salaries"
   ]
  },
  {
   "cell_type": "markdown",
   "metadata": {},
   "source": [
    "Importando bibliotecas."
   ]
  },
  {
   "cell_type": "code",
   "execution_count": 93,
   "metadata": {},
   "outputs": [],
   "source": [
    "import pandas as pd\n",
    "import numpy as np\n",
    "import matplotlib.pyplot as plt\n",
    "import seaborn as sns"
   ]
  },
  {
   "cell_type": "markdown",
   "metadata": {},
   "source": [
    "Importando a base de dados do projeto."
   ]
  },
  {
   "cell_type": "code",
   "execution_count": 94,
   "metadata": {},
   "outputs": [
    {
     "data": {
      "text/html": [
       "<div>\n",
       "<style scoped>\n",
       "    .dataframe tbody tr th:only-of-type {\n",
       "        vertical-align: middle;\n",
       "    }\n",
       "\n",
       "    .dataframe tbody tr th {\n",
       "        vertical-align: top;\n",
       "    }\n",
       "\n",
       "    .dataframe thead th {\n",
       "        text-align: right;\n",
       "    }\n",
       "</style>\n",
       "<table border=\"1\" class=\"dataframe\">\n",
       "  <thead>\n",
       "    <tr style=\"text-align: right;\">\n",
       "      <th></th>\n",
       "      <th>work_year</th>\n",
       "      <th>experience_level</th>\n",
       "      <th>employment_type</th>\n",
       "      <th>job_title</th>\n",
       "      <th>salary</th>\n",
       "      <th>salary_currency</th>\n",
       "      <th>salary_in_usd</th>\n",
       "      <th>employee_residence</th>\n",
       "      <th>remote_ratio</th>\n",
       "      <th>company_location</th>\n",
       "      <th>company_size</th>\n",
       "    </tr>\n",
       "  </thead>\n",
       "  <tbody>\n",
       "    <tr>\n",
       "      <th>0</th>\n",
       "      <td>2020</td>\n",
       "      <td>MI</td>\n",
       "      <td>FT</td>\n",
       "      <td>Data Scientist</td>\n",
       "      <td>70000</td>\n",
       "      <td>EUR</td>\n",
       "      <td>79833</td>\n",
       "      <td>DE</td>\n",
       "      <td>0</td>\n",
       "      <td>DE</td>\n",
       "      <td>L</td>\n",
       "    </tr>\n",
       "    <tr>\n",
       "      <th>1</th>\n",
       "      <td>2020</td>\n",
       "      <td>SE</td>\n",
       "      <td>FT</td>\n",
       "      <td>Machine Learning Scientist</td>\n",
       "      <td>260000</td>\n",
       "      <td>USD</td>\n",
       "      <td>260000</td>\n",
       "      <td>JP</td>\n",
       "      <td>0</td>\n",
       "      <td>JP</td>\n",
       "      <td>S</td>\n",
       "    </tr>\n",
       "    <tr>\n",
       "      <th>2</th>\n",
       "      <td>2020</td>\n",
       "      <td>SE</td>\n",
       "      <td>FT</td>\n",
       "      <td>Big Data Engineer</td>\n",
       "      <td>85000</td>\n",
       "      <td>GBP</td>\n",
       "      <td>109024</td>\n",
       "      <td>GB</td>\n",
       "      <td>50</td>\n",
       "      <td>GB</td>\n",
       "      <td>M</td>\n",
       "    </tr>\n",
       "    <tr>\n",
       "      <th>3</th>\n",
       "      <td>2020</td>\n",
       "      <td>MI</td>\n",
       "      <td>FT</td>\n",
       "      <td>Product Data Analyst</td>\n",
       "      <td>20000</td>\n",
       "      <td>USD</td>\n",
       "      <td>20000</td>\n",
       "      <td>HN</td>\n",
       "      <td>0</td>\n",
       "      <td>HN</td>\n",
       "      <td>S</td>\n",
       "    </tr>\n",
       "    <tr>\n",
       "      <th>4</th>\n",
       "      <td>2020</td>\n",
       "      <td>SE</td>\n",
       "      <td>FT</td>\n",
       "      <td>Machine Learning Engineer</td>\n",
       "      <td>150000</td>\n",
       "      <td>USD</td>\n",
       "      <td>150000</td>\n",
       "      <td>US</td>\n",
       "      <td>50</td>\n",
       "      <td>US</td>\n",
       "      <td>L</td>\n",
       "    </tr>\n",
       "  </tbody>\n",
       "</table>\n",
       "</div>"
      ],
      "text/plain": [
       "   work_year experience_level employment_type                   job_title  \\\n",
       "0       2020               MI              FT              Data Scientist   \n",
       "1       2020               SE              FT  Machine Learning Scientist   \n",
       "2       2020               SE              FT           Big Data Engineer   \n",
       "3       2020               MI              FT        Product Data Analyst   \n",
       "4       2020               SE              FT   Machine Learning Engineer   \n",
       "\n",
       "   salary salary_currency  salary_in_usd employee_residence  remote_ratio  \\\n",
       "0   70000             EUR          79833                 DE             0   \n",
       "1  260000             USD         260000                 JP             0   \n",
       "2   85000             GBP         109024                 GB            50   \n",
       "3   20000             USD          20000                 HN             0   \n",
       "4  150000             USD         150000                 US            50   \n",
       "\n",
       "  company_location company_size  \n",
       "0               DE            L  \n",
       "1               JP            S  \n",
       "2               GB            M  \n",
       "3               HN            S  \n",
       "4               US            L  "
      ]
     },
     "execution_count": 94,
     "metadata": {},
     "output_type": "execute_result"
    }
   ],
   "source": [
    "data_b = pd.read_csv(\"data/ds_salaries.csv\", index_col=0)\n",
    "data_b.head()"
   ]
  },
  {
   "cell_type": "markdown",
   "metadata": {},
   "source": [
    "Verificando a existência de valores null."
   ]
  },
  {
   "cell_type": "code",
   "execution_count": 95,
   "metadata": {},
   "outputs": [
    {
     "data": {
      "text/plain": [
       "work_year             0\n",
       "experience_level      0\n",
       "employment_type       0\n",
       "job_title             0\n",
       "salary                0\n",
       "salary_currency       0\n",
       "salary_in_usd         0\n",
       "employee_residence    0\n",
       "remote_ratio          0\n",
       "company_location      0\n",
       "company_size          0\n",
       "dtype: int64"
      ]
     },
     "execution_count": 95,
     "metadata": {},
     "output_type": "execute_result"
    }
   ],
   "source": [
    "data_b.isnull().sum()"
   ]
  },
  {
   "cell_type": "markdown",
   "metadata": {},
   "source": [
    "Verficando os tipos das colunas."
   ]
  },
  {
   "cell_type": "code",
   "execution_count": 96,
   "metadata": {},
   "outputs": [
    {
     "data": {
      "text/plain": [
       "work_year              int64\n",
       "experience_level      object\n",
       "employment_type       object\n",
       "job_title             object\n",
       "salary                 int64\n",
       "salary_currency       object\n",
       "salary_in_usd          int64\n",
       "employee_residence    object\n",
       "remote_ratio           int64\n",
       "company_location      object\n",
       "company_size          object\n",
       "dtype: object"
      ]
     },
     "execution_count": 96,
     "metadata": {},
     "output_type": "execute_result"
    }
   ],
   "source": [
    "data_b.dtypes"
   ]
  },
  {
   "cell_type": "markdown",
   "metadata": {},
   "source": [
    "O ano em que o salário foi pago."
   ]
  },
  {
   "cell_type": "code",
   "execution_count": 97,
   "metadata": {},
   "outputs": [
    {
     "data": {
      "text/plain": [
       "2022    318\n",
       "2021    217\n",
       "2020     72\n",
       "Name: work_year, dtype: int64"
      ]
     },
     "execution_count": 97,
     "metadata": {},
     "output_type": "execute_result"
    }
   ],
   "source": [
    "data_b[\"work_year\"].value_counts()"
   ]
  },
  {
   "cell_type": "markdown",
   "metadata": {},
   "source": [
    "O nível de experiência no trabalho durante o ano com os seguintes valores possíveis:\n",
    "* EN = Entry-level / Junior\n",
    "* MI = Mid-level / Intermediate\n",
    "* SE = Senior-level / Expert\n",
    "* EX = Executive-level / Director"
   ]
  },
  {
   "cell_type": "code",
   "execution_count": 98,
   "metadata": {},
   "outputs": [
    {
     "data": {
      "text/plain": [
       "SE    280\n",
       "MI    213\n",
       "EN     88\n",
       "EX     26\n",
       "Name: experience_level, dtype: int64"
      ]
     },
     "execution_count": 98,
     "metadata": {},
     "output_type": "execute_result"
    }
   ],
   "source": [
    "data_b[\"experience_level\"].value_counts()"
   ]
  },
  {
   "cell_type": "markdown",
   "metadata": {},
   "source": [
    "Mudando o nível de experiência para valores numéricos:\n",
    "* SE = 0\n",
    "* MI = 1\n",
    "* EN = 2\n",
    "* EX = 3"
   ]
  },
  {
   "cell_type": "code",
   "execution_count": 99,
   "metadata": {},
   "outputs": [
    {
     "data": {
      "text/plain": [
       "2    280\n",
       "1    213\n",
       "0     88\n",
       "3     26\n",
       "Name: experience_level, dtype: int64"
      ]
     },
     "execution_count": 99,
     "metadata": {},
     "output_type": "execute_result"
    }
   ],
   "source": [
    "data_b[\"experience_level\"] = data_b[\"experience_level\"].map({\"EN\": 0, \"MI\": 1, \"SE\": 2, \"EX\": 3})\n",
    "data_b[\"experience_level\"].value_counts()"
   ]
  },
  {
   "cell_type": "markdown",
   "metadata": {},
   "source": [
    "O tipo de emprego para a função:\n",
    "* PT = Part-time\n",
    "* FT = Full-time\n",
    "* CT = Contract\n",
    "* FL = Freelance"
   ]
  },
  {
   "cell_type": "code",
   "execution_count": 100,
   "metadata": {},
   "outputs": [
    {
     "data": {
      "text/plain": [
       "FT    588\n",
       "PT     10\n",
       "CT      5\n",
       "FL      4\n",
       "Name: employment_type, dtype: int64"
      ]
     },
     "execution_count": 100,
     "metadata": {},
     "output_type": "execute_result"
    }
   ],
   "source": [
    "data_b[\"employment_type\"].value_counts()"
   ]
  },
  {
   "cell_type": "markdown",
   "metadata": {},
   "source": [
    "Mudando o tipo de emprego para valores numéricos:\n",
    "* PT = 0\n",
    "* FT = 1\n",
    "* CT = 2\n",
    "* FL = 3"
   ]
  },
  {
   "cell_type": "code",
   "execution_count": 101,
   "metadata": {},
   "outputs": [
    {
     "data": {
      "text/plain": [
       "1    588\n",
       "0     10\n",
       "2      5\n",
       "3      4\n",
       "Name: employment_type, dtype: int64"
      ]
     },
     "execution_count": 101,
     "metadata": {},
     "output_type": "execute_result"
    }
   ],
   "source": [
    "data_b[\"employment_type\"] = data_b[\"employment_type\"].map({\"PT\": 0, \"FT\": 1, \"CT\": 2, \"FL\": 3})\n",
    "data_b[\"employment_type\"].value_counts()"
   ]
  },
  {
   "cell_type": "markdown",
   "metadata": {},
   "source": [
    "O cargo que trabalhou durante o ano:"
   ]
  },
  {
   "cell_type": "code",
   "execution_count": 102,
   "metadata": {},
   "outputs": [
    {
     "data": {
      "text/plain": [
       "Data Scientist                              143\n",
       "Data Engineer                               132\n",
       "Data Analyst                                 97\n",
       "Machine Learning Engineer                    41\n",
       "Research Scientist                           16\n",
       "Data Science Manager                         12\n",
       "Data Architect                               11\n",
       "Big Data Engineer                             8\n",
       "Machine Learning Scientist                    8\n",
       "Principal Data Scientist                      7\n",
       "AI Scientist                                  7\n",
       "Data Science Consultant                       7\n",
       "Director of Data Science                      7\n",
       "Data Analytics Manager                        7\n",
       "ML Engineer                                   6\n",
       "Computer Vision Engineer                      6\n",
       "BI Data Analyst                               6\n",
       "Lead Data Engineer                            6\n",
       "Data Engineering Manager                      5\n",
       "Business Data Analyst                         5\n",
       "Head of Data                                  5\n",
       "Applied Data Scientist                        5\n",
       "Applied Machine Learning Scientist            4\n",
       "Head of Data Science                          4\n",
       "Analytics Engineer                            4\n",
       "Data Analytics Engineer                       4\n",
       "Machine Learning Developer                    3\n",
       "Machine Learning Infrastructure Engineer      3\n",
       "Lead Data Scientist                           3\n",
       "Computer Vision Software Engineer             3\n",
       "Lead Data Analyst                             3\n",
       "Data Science Engineer                         3\n",
       "Principal Data Engineer                       3\n",
       "Principal Data Analyst                        2\n",
       "ETL Developer                                 2\n",
       "Product Data Analyst                          2\n",
       "Director of Data Engineering                  2\n",
       "Financial Data Analyst                        2\n",
       "Cloud Data Engineer                           2\n",
       "Lead Machine Learning Engineer                1\n",
       "NLP Engineer                                  1\n",
       "Head of Machine Learning                      1\n",
       "3D Computer Vision Researcher                 1\n",
       "Data Specialist                               1\n",
       "Staff Data Scientist                          1\n",
       "Big Data Architect                            1\n",
       "Finance Data Analyst                          1\n",
       "Marketing Data Analyst                        1\n",
       "Machine Learning Manager                      1\n",
       "Data Analytics Lead                           1\n",
       "Name: job_title, dtype: int64"
      ]
     },
     "execution_count": 102,
     "metadata": {},
     "output_type": "execute_result"
    }
   ],
   "source": [
    "data_b[\"job_title\"].value_counts()"
   ]
  },
  {
   "cell_type": "markdown",
   "metadata": {},
   "source": [
    "Dividindo em profissões:\n",
    "* Scientist = 0\n",
    "* Engineer = 1\n",
    "* Analyst = 2\n",
    "* Manager = 3\n",
    "* Director = 4\n",
    "* Architect = 5\n",
    "* Consultant = 6\n",
    "* Head = 7\n",
    "* Developer = 8\n",
    "* Lead = 9\n",
    "* Researcher = 10\n",
    "* Specialist = 11"
   ]
  },
  {
   "cell_type": "code",
   "execution_count": 103,
   "metadata": {},
   "outputs": [
    {
     "data": {
      "text/plain": [
       "1     230\n",
       "0     194\n",
       "2     119\n",
       "3      20\n",
       "5      12\n",
       "7      10\n",
       "6       7\n",
       "4       7\n",
       "8       5\n",
       "10      1\n",
       "11      1\n",
       "9       1\n",
       "Name: profession, dtype: int64"
      ]
     },
     "execution_count": 103,
     "metadata": {},
     "output_type": "execute_result"
    }
   ],
   "source": [
    "profession_b = []\n",
    "\n",
    "for job_title in data_b[\"job_title\"]:\n",
    "  if \"Scientist\" in job_title:\n",
    "    profession_b.append(0)\n",
    "  elif \"Engineer\" in job_title:\n",
    "    profession_b.append(1)\n",
    "  elif \"Analyst\" in job_title:\n",
    "    profession_b.append(2)\n",
    "  elif \"Manager\" in job_title:\n",
    "    profession_b.append(3)\n",
    "  elif \"Director\" in job_title:\n",
    "    profession_b.append(4)\n",
    "  elif \"Architect\" in job_title:\n",
    "    profession_b.append(5)\n",
    "  elif \"Consultant\" in job_title:\n",
    "    profession_b.append(6)\n",
    "  elif \"Head\" in job_title:\n",
    "    profession_b.append(7)\n",
    "  elif \"Developer\" in job_title:\n",
    "    profession_b.append(8)\n",
    "  elif \"Lead\" in job_title:\n",
    "    profession_b.append(9)\n",
    "  elif \"Researcher\" in job_title:\n",
    "    profession_b.append(10)\n",
    "  elif \"Specialist\" in job_title:\n",
    "    profession_b.append(11)\n",
    "\n",
    "# Incluindo os dados na tabela\n",
    "data_b[\"profession\"] = profession_b\n",
    "\n",
    "data_b[\"profession\"].value_counts()"
   ]
  },
  {
   "cell_type": "markdown",
   "metadata": {},
   "source": [
    "Dividindo por áreas:\n",
    "* Machine Learning = 0\n",
    "* Big Data = 1\n",
    "* Computer Vision = 2\n",
    "* AI and NLP = 3\n",
    "* Cloud = 4\n",
    "* ETL = 5\n",
    "* Business Intelligence = 6\n",
    "* Geral = 7\n"
   ]
  },
  {
   "cell_type": "code",
   "execution_count": 104,
   "metadata": {},
   "outputs": [
    {
     "data": {
      "text/plain": [
       "7    497\n",
       "0     68\n",
       "6     11\n",
       "2     10\n",
       "1      9\n",
       "3      8\n",
       "4      2\n",
       "5      2\n",
       "Name: area, dtype: int64"
      ]
     },
     "execution_count": 104,
     "metadata": {},
     "output_type": "execute_result"
    }
   ],
   "source": [
    "areas_b = []\n",
    "\n",
    "for job_title in data_b[\"job_title\"]:\n",
    "    if (\"Machine Learning\" in job_title) or (\"ML\" in job_title):\n",
    "        areas_b.append(0)\n",
    "    elif \"Big Data\" in job_title:\n",
    "        areas_b.append(1)\n",
    "    elif \"Computer Vision\" in job_title:\n",
    "        areas_b.append(2)\n",
    "    elif (\"AI\" in job_title) or (\"NLP\" in job_title):\n",
    "        areas_b.append(3)\n",
    "    elif \"Cloud\" in job_title:\n",
    "        areas_b.append(4)\n",
    "    elif \"ETL\" in job_title:\n",
    "        areas_b.append(5)\n",
    "    elif (\"Business\" in job_title) or (\"BI\" in job_title):\n",
    "        areas_b.append(6)\n",
    "    else:\n",
    "        areas_b.append(7)\n",
    "\n",
    "data_b[\"area\"] = areas_b\n",
    "data_b[\"area\"].value_counts()"
   ]
  },
  {
   "cell_type": "markdown",
   "metadata": {},
   "source": [
    "Deletando os títulos de trabalho"
   ]
  },
  {
   "cell_type": "code",
   "execution_count": 105,
   "metadata": {},
   "outputs": [],
   "source": [
    "data_b = data_b.drop(columns=\"job_title\")"
   ]
  },
  {
   "cell_type": "markdown",
   "metadata": {},
   "source": [
    "A moeda do salário pago como um código de moeda ISO 4217:"
   ]
  },
  {
   "cell_type": "code",
   "execution_count": 106,
   "metadata": {},
   "outputs": [
    {
     "data": {
      "text/plain": [
       "USD    398\n",
       "EUR     95\n",
       "GBP     44\n",
       "INR     27\n",
       "CAD     18\n",
       "JPY      3\n",
       "PLN      3\n",
       "TRY      3\n",
       "CNY      2\n",
       "MXN      2\n",
       "HUF      2\n",
       "DKK      2\n",
       "SGD      2\n",
       "BRL      2\n",
       "AUD      2\n",
       "CLP      1\n",
       "CHF      1\n",
       "Name: salary_currency, dtype: int64"
      ]
     },
     "execution_count": 106,
     "metadata": {},
     "output_type": "execute_result"
    }
   ],
   "source": [
    "data_b[\"salary_currency\"].value_counts() # pensar uma forma de converter automaticamente"
   ]
  },
  {
   "cell_type": "markdown",
   "metadata": {},
   "source": [
    "Mudando a moeda do salário:\n",
    "* USD = 0\n",
    "* EUR = 1\n",
    "* GBP = 2\n",
    "* INR = 3\n",
    "* CAD = 4\n",
    "* JPY = 5\n",
    "* PLN = 6\n",
    "* TRY = 7\n",
    "* CNY = 8\n",
    "* MXN = 9\n",
    "* HUF = 10\n",
    "* DKK = 11\n",
    "* SGD = 12\n",
    "* BRL = 13\n",
    "* AUD = 14\n",
    "* CLP = 15\n",
    "* CHF = 16"
   ]
  },
  {
   "cell_type": "code",
   "execution_count": 107,
   "metadata": {},
   "outputs": [
    {
     "data": {
      "text/plain": [
       "0     398\n",
       "1      95\n",
       "2      44\n",
       "3      27\n",
       "4      18\n",
       "5       3\n",
       "6       3\n",
       "7       3\n",
       "8       2\n",
       "9       2\n",
       "10      2\n",
       "11      2\n",
       "12      2\n",
       "13      2\n",
       "14      2\n",
       "15      1\n",
       "16      1\n",
       "Name: salary_currency, dtype: int64"
      ]
     },
     "execution_count": 107,
     "metadata": {},
     "output_type": "execute_result"
    }
   ],
   "source": [
    "currencys_b = []\n",
    "\n",
    "for currency in data_b[\"salary_currency\"]:\n",
    "    if currency == \"USD\":\n",
    "        currencys_b.append(0)\n",
    "    elif currency == \"EUR\":\n",
    "        currencys_b.append(1)\n",
    "    elif currency == \"GBP\":\n",
    "        currencys_b.append(2)\n",
    "    elif currency == \"INR\":\n",
    "        currencys_b.append(3)\n",
    "    elif currency == \"CAD\":\n",
    "        currencys_b.append(4)\n",
    "    elif currency == \"JPY\":\n",
    "        currencys_b.append(5)\n",
    "    elif currency == \"PLN\":\n",
    "        currencys_b.append(6)\n",
    "    elif currency == \"TRY\":\n",
    "        currencys_b.append(7)\n",
    "    elif currency == \"CNY\":\n",
    "        currencys_b.append(8)\n",
    "    elif currency == \"MXN\":\n",
    "        currencys_b.append(9)\n",
    "    elif currency == \"HUF\":\n",
    "        currencys_b.append(10)\n",
    "    elif currency == \"DKK\":\n",
    "        currencys_b.append(11)\n",
    "    elif currency == \"SGD\":\n",
    "        currencys_b.append(12)\n",
    "    elif currency == \"BRL\":\n",
    "        currencys_b.append(13)\n",
    "    elif currency == \"AUD\":\n",
    "        currencys_b.append(14)\n",
    "    elif currency == \"CLP\":\n",
    "        currencys_b.append(15)\n",
    "    elif currency == \"CHF\":\n",
    "        currencys_b.append(16)\n",
    "\n",
    "data_b[\"salary_currency\"] = currencys_b\n",
    "data_b[\"salary_currency\"].value_counts()"
   ]
  },
  {
   "cell_type": "markdown",
   "metadata": {},
   "source": [
    "O principal país de residência do funcionário durante o ano de trabalho como um código de país ISO 3166."
   ]
  },
  {
   "cell_type": "code",
   "execution_count": 108,
   "metadata": {},
   "outputs": [
    {
     "data": {
      "text/plain": [
       "US    332\n",
       "GB     44\n",
       "IN     30\n",
       "CA     29\n",
       "DE     25\n",
       "FR     18\n",
       "ES     15\n",
       "GR     13\n",
       "JP      7\n",
       "PT      6\n",
       "BR      6\n",
       "PK      6\n",
       "NL      5\n",
       "PL      4\n",
       "IT      4\n",
       "RU      4\n",
       "AE      3\n",
       "AT      3\n",
       "VN      3\n",
       "TR      3\n",
       "AU      3\n",
       "RO      2\n",
       "BE      2\n",
       "SG      2\n",
       "SI      2\n",
       "DK      2\n",
       "HU      2\n",
       "NG      2\n",
       "MX      2\n",
       "BO      1\n",
       "MY      1\n",
       "TN      1\n",
       "IE      1\n",
       "DZ      1\n",
       "AR      1\n",
       "CZ      1\n",
       "JE      1\n",
       "LU      1\n",
       "PR      1\n",
       "RS      1\n",
       "EE      1\n",
       "CL      1\n",
       "HK      1\n",
       "KE      1\n",
       "MD      1\n",
       "CO      1\n",
       "IR      1\n",
       "CN      1\n",
       "MT      1\n",
       "UA      1\n",
       "IQ      1\n",
       "HN      1\n",
       "BG      1\n",
       "HR      1\n",
       "PH      1\n",
       "NZ      1\n",
       "CH      1\n",
       "Name: employee_residence, dtype: int64"
      ]
     },
     "execution_count": 108,
     "metadata": {},
     "output_type": "execute_result"
    }
   ],
   "source": [
    "data_b[\"employee_residence\"].value_counts() # dividir por continentes"
   ]
  },
  {
   "cell_type": "markdown",
   "metadata": {},
   "source": [
    "Mudando os códigos de países para inteiros"
   ]
  },
  {
   "cell_type": "code",
   "execution_count": 109,
   "metadata": {},
   "outputs": [
    {
     "name": "stdout",
     "output_type": "stream",
     "text": [
      "['DE' 'JP' 'GB' 'HN' 'US' 'HU' 'NZ' 'FR' 'IN' 'PK' 'PL' 'PT' 'CN' 'GR'\n",
      " 'AE' 'NL' 'MX' 'CA' 'AT' 'NG' 'PH' 'ES' 'DK' 'RU' 'IT' 'HR' 'BG' 'SG'\n",
      " 'BR' 'IQ' 'VN' 'BE' 'UA' 'MT' 'CL' 'RO' 'IR' 'CO' 'MD' 'KE' 'SI' 'HK'\n",
      " 'TR' 'RS' 'PR' 'LU' 'JE' 'CZ' 'AR' 'DZ' 'TN' 'MY' 'EE' 'AU' 'BO' 'IE'\n",
      " 'CH']\n"
     ]
    },
    {
     "data": {
      "text/plain": [
       "4     332\n",
       "2      44\n",
       "8      30\n",
       "17     29\n",
       "0      25\n",
       "7      18\n",
       "21     15\n",
       "13     13\n",
       "1       7\n",
       "11      6\n",
       "28      6\n",
       "9       6\n",
       "15      5\n",
       "10      4\n",
       "24      4\n",
       "23      4\n",
       "14      3\n",
       "18      3\n",
       "30      3\n",
       "42      3\n",
       "53      3\n",
       "35      2\n",
       "31      2\n",
       "27      2\n",
       "40      2\n",
       "22      2\n",
       "5       2\n",
       "19      2\n",
       "16      2\n",
       "54      1\n",
       "51      1\n",
       "50      1\n",
       "55      1\n",
       "49      1\n",
       "48      1\n",
       "47      1\n",
       "46      1\n",
       "45      1\n",
       "44      1\n",
       "43      1\n",
       "52      1\n",
       "34      1\n",
       "41      1\n",
       "39      1\n",
       "38      1\n",
       "37      1\n",
       "36      1\n",
       "12      1\n",
       "33      1\n",
       "32      1\n",
       "29      1\n",
       "3       1\n",
       "26      1\n",
       "25      1\n",
       "20      1\n",
       "6       1\n",
       "56      1\n",
       "Name: employee_residence, dtype: int64"
      ]
     },
     "execution_count": 109,
     "metadata": {},
     "output_type": "execute_result"
    }
   ],
   "source": [
    "countries_b = data_b[\"employee_residence\"].unique()\n",
    "print(countries_b)\n",
    "\n",
    "i = 0\n",
    "employee_residence_b = []\n",
    "\n",
    "for country in data_b[\"employee_residence\"]:\n",
    "    for codigo in countries_b:\n",
    "        if country == codigo:\n",
    "            employee_residence_b.append(i)\n",
    "        i += 1\n",
    "    i = 0\n",
    "\n",
    "data_b[\"employee_residence\"] = employee_residence_b\n",
    "data_b[\"employee_residence\"].value_counts()"
   ]
  },
  {
   "cell_type": "markdown",
   "metadata": {},
   "source": [
    "A quantidade total de trabalho feito remotamente, os valores possíveis são os seguintes:\n",
    "* 0 = Sem trabalho remoto (menos 20%)\n",
    "* 50 = Parcialmemte remoto\n",
    "* 100 = Totalmente remoto (mais de 80%)"
   ]
  },
  {
   "cell_type": "code",
   "execution_count": 110,
   "metadata": {},
   "outputs": [
    {
     "data": {
      "text/plain": [
       "100    381\n",
       "0      127\n",
       "50      99\n",
       "Name: remote_ratio, dtype: int64"
      ]
     },
     "execution_count": 110,
     "metadata": {},
     "output_type": "execute_result"
    }
   ],
   "source": [
    "data_b[\"remote_ratio\"].value_counts()"
   ]
  },
  {
   "cell_type": "markdown",
   "metadata": {},
   "source": [
    "O país da sede ou filial contratante do empregador como um código de país ISO 3166."
   ]
  },
  {
   "cell_type": "code",
   "execution_count": 111,
   "metadata": {},
   "outputs": [
    {
     "data": {
      "text/plain": [
       "US    355\n",
       "GB     47\n",
       "CA     30\n",
       "DE     28\n",
       "IN     24\n",
       "FR     15\n",
       "ES     14\n",
       "GR     11\n",
       "JP      6\n",
       "NL      4\n",
       "AT      4\n",
       "PT      4\n",
       "PL      4\n",
       "LU      3\n",
       "PK      3\n",
       "BR      3\n",
       "AE      3\n",
       "MX      3\n",
       "AU      3\n",
       "TR      3\n",
       "DK      3\n",
       "IT      2\n",
       "CZ      2\n",
       "SI      2\n",
       "RU      2\n",
       "CH      2\n",
       "NG      2\n",
       "CN      2\n",
       "BE      2\n",
       "VN      1\n",
       "EE      1\n",
       "AS      1\n",
       "DZ      1\n",
       "MY      1\n",
       "MD      1\n",
       "KE      1\n",
       "SG      1\n",
       "CO      1\n",
       "IR      1\n",
       "CL      1\n",
       "MT      1\n",
       "IL      1\n",
       "UA      1\n",
       "IQ      1\n",
       "RO      1\n",
       "HR      1\n",
       "NZ      1\n",
       "HU      1\n",
       "HN      1\n",
       "IE      1\n",
       "Name: company_location, dtype: int64"
      ]
     },
     "execution_count": 111,
     "metadata": {},
     "output_type": "execute_result"
    }
   ],
   "source": [
    "data_b[\"company_location\"].value_counts() # dividir por continentes"
   ]
  },
  {
   "cell_type": "markdown",
   "metadata": {},
   "source": [
    "Mudando os códigos de países para inteiros"
   ]
  },
  {
   "cell_type": "code",
   "execution_count": 112,
   "metadata": {},
   "outputs": [
    {
     "name": "stdout",
     "output_type": "stream",
     "text": [
      "['DE' 'JP' 'GB' 'HN' 'US' 'HU' 'NZ' 'FR' 'IN' 'PK' 'CN' 'GR' 'AE' 'NL'\n",
      " 'MX' 'CA' 'AT' 'NG' 'ES' 'PT' 'DK' 'IT' 'HR' 'LU' 'PL' 'SG' 'RO' 'IQ'\n",
      " 'BR' 'BE' 'UA' 'IL' 'RU' 'MT' 'CL' 'IR' 'CO' 'MD' 'KE' 'SI' 'CH' 'VN'\n",
      " 'AS' 'TR' 'CZ' 'DZ' 'EE' 'MY' 'AU' 'IE']\n"
     ]
    },
    {
     "data": {
      "text/plain": [
       "4     355\n",
       "2      47\n",
       "15     30\n",
       "0      28\n",
       "8      24\n",
       "7      15\n",
       "18     14\n",
       "11     11\n",
       "1       6\n",
       "13      4\n",
       "16      4\n",
       "19      4\n",
       "24      4\n",
       "23      3\n",
       "9       3\n",
       "28      3\n",
       "12      3\n",
       "14      3\n",
       "48      3\n",
       "43      3\n",
       "20      3\n",
       "21      2\n",
       "44      2\n",
       "39      2\n",
       "32      2\n",
       "40      2\n",
       "17      2\n",
       "10      2\n",
       "29      2\n",
       "41      1\n",
       "46      1\n",
       "42      1\n",
       "45      1\n",
       "47      1\n",
       "37      1\n",
       "38      1\n",
       "25      1\n",
       "36      1\n",
       "35      1\n",
       "34      1\n",
       "33      1\n",
       "31      1\n",
       "30      1\n",
       "27      1\n",
       "26      1\n",
       "22      1\n",
       "6       1\n",
       "5       1\n",
       "3       1\n",
       "49      1\n",
       "Name: company_location, dtype: int64"
      ]
     },
     "execution_count": 112,
     "metadata": {},
     "output_type": "execute_result"
    }
   ],
   "source": [
    "countries_b = data_b[\"company_location\"].unique()\n",
    "print(countries_b)\n",
    "\n",
    "i = 0\n",
    "company_location_b = []\n",
    "\n",
    "for country in data_b[\"company_location\"]:\n",
    "    for codigo in countries_b:\n",
    "        if country == codigo:\n",
    "            company_location_b.append(i)\n",
    "        i += 1\n",
    "    i = 0\n",
    "\n",
    "data_b[\"company_location\"] = company_location_b\n",
    "data_b[\"company_location\"].value_counts()"
   ]
  },
  {
   "cell_type": "markdown",
   "metadata": {},
   "source": [
    "O número médio de pessoas que trabalharam para a empresa durante o ano:\n",
    "* S = mais de 50 trabalhadores (small)\n",
    "* M = de 50 a 250 trabalhadores (medium)\n",
    "* L = mais de 250 trabalhadores (large)"
   ]
  },
  {
   "cell_type": "code",
   "execution_count": 113,
   "metadata": {},
   "outputs": [
    {
     "data": {
      "text/plain": [
       "M    326\n",
       "L    198\n",
       "S     83\n",
       "Name: company_size, dtype: int64"
      ]
     },
     "execution_count": 113,
     "metadata": {},
     "output_type": "execute_result"
    }
   ],
   "source": [
    "data_b[\"company_size\"].value_counts()"
   ]
  },
  {
   "cell_type": "markdown",
   "metadata": {},
   "source": [
    "Mudando o tamanho da empresa para valores numéricos:\n",
    "* S = 0\n",
    "* M = 1\n",
    "* L = 2"
   ]
  },
  {
   "cell_type": "code",
   "execution_count": 114,
   "metadata": {},
   "outputs": [
    {
     "data": {
      "text/plain": [
       "1    326\n",
       "2    198\n",
       "0     83\n",
       "Name: company_size, dtype: int64"
      ]
     },
     "execution_count": 114,
     "metadata": {},
     "output_type": "execute_result"
    }
   ],
   "source": [
    "data_b[\"company_size\"] = data_b[\"company_size\"].map({\"S\": 0, \"M\": 1, \"L\": 2})\n",
    "data_b[\"company_size\"].value_counts()"
   ]
  },
  {
   "cell_type": "code",
   "execution_count": 115,
   "metadata": {},
   "outputs": [
    {
     "data": {
      "text/html": [
       "<div>\n",
       "<style scoped>\n",
       "    .dataframe tbody tr th:only-of-type {\n",
       "        vertical-align: middle;\n",
       "    }\n",
       "\n",
       "    .dataframe tbody tr th {\n",
       "        vertical-align: top;\n",
       "    }\n",
       "\n",
       "    .dataframe thead th {\n",
       "        text-align: right;\n",
       "    }\n",
       "</style>\n",
       "<table border=\"1\" class=\"dataframe\">\n",
       "  <thead>\n",
       "    <tr style=\"text-align: right;\">\n",
       "      <th></th>\n",
       "      <th>work_year</th>\n",
       "      <th>experience_level</th>\n",
       "      <th>employment_type</th>\n",
       "      <th>salary</th>\n",
       "      <th>salary_currency</th>\n",
       "      <th>salary_in_usd</th>\n",
       "      <th>employee_residence</th>\n",
       "      <th>remote_ratio</th>\n",
       "      <th>company_location</th>\n",
       "      <th>company_size</th>\n",
       "      <th>profession</th>\n",
       "      <th>area</th>\n",
       "    </tr>\n",
       "  </thead>\n",
       "  <tbody>\n",
       "    <tr>\n",
       "      <th>0</th>\n",
       "      <td>2020</td>\n",
       "      <td>1</td>\n",
       "      <td>1</td>\n",
       "      <td>70000</td>\n",
       "      <td>1</td>\n",
       "      <td>79833</td>\n",
       "      <td>0</td>\n",
       "      <td>0</td>\n",
       "      <td>0</td>\n",
       "      <td>2</td>\n",
       "      <td>0</td>\n",
       "      <td>7</td>\n",
       "    </tr>\n",
       "    <tr>\n",
       "      <th>1</th>\n",
       "      <td>2020</td>\n",
       "      <td>2</td>\n",
       "      <td>1</td>\n",
       "      <td>260000</td>\n",
       "      <td>0</td>\n",
       "      <td>260000</td>\n",
       "      <td>1</td>\n",
       "      <td>0</td>\n",
       "      <td>1</td>\n",
       "      <td>0</td>\n",
       "      <td>0</td>\n",
       "      <td>0</td>\n",
       "    </tr>\n",
       "    <tr>\n",
       "      <th>2</th>\n",
       "      <td>2020</td>\n",
       "      <td>2</td>\n",
       "      <td>1</td>\n",
       "      <td>85000</td>\n",
       "      <td>2</td>\n",
       "      <td>109024</td>\n",
       "      <td>2</td>\n",
       "      <td>50</td>\n",
       "      <td>2</td>\n",
       "      <td>1</td>\n",
       "      <td>1</td>\n",
       "      <td>1</td>\n",
       "    </tr>\n",
       "    <tr>\n",
       "      <th>3</th>\n",
       "      <td>2020</td>\n",
       "      <td>1</td>\n",
       "      <td>1</td>\n",
       "      <td>20000</td>\n",
       "      <td>0</td>\n",
       "      <td>20000</td>\n",
       "      <td>3</td>\n",
       "      <td>0</td>\n",
       "      <td>3</td>\n",
       "      <td>0</td>\n",
       "      <td>2</td>\n",
       "      <td>7</td>\n",
       "    </tr>\n",
       "    <tr>\n",
       "      <th>4</th>\n",
       "      <td>2020</td>\n",
       "      <td>2</td>\n",
       "      <td>1</td>\n",
       "      <td>150000</td>\n",
       "      <td>0</td>\n",
       "      <td>150000</td>\n",
       "      <td>4</td>\n",
       "      <td>50</td>\n",
       "      <td>4</td>\n",
       "      <td>2</td>\n",
       "      <td>1</td>\n",
       "      <td>0</td>\n",
       "    </tr>\n",
       "  </tbody>\n",
       "</table>\n",
       "</div>"
      ],
      "text/plain": [
       "   work_year  experience_level  employment_type  salary  salary_currency  \\\n",
       "0       2020                 1                1   70000                1   \n",
       "1       2020                 2                1  260000                0   \n",
       "2       2020                 2                1   85000                2   \n",
       "3       2020                 1                1   20000                0   \n",
       "4       2020                 2                1  150000                0   \n",
       "\n",
       "   salary_in_usd  employee_residence  remote_ratio  company_location  \\\n",
       "0          79833                   0             0                 0   \n",
       "1         260000                   1             0                 1   \n",
       "2         109024                   2            50                 2   \n",
       "3          20000                   3             0                 3   \n",
       "4         150000                   4            50                 4   \n",
       "\n",
       "   company_size  profession  area  \n",
       "0             2           0     7  \n",
       "1             0           0     0  \n",
       "2             1           1     1  \n",
       "3             0           2     7  \n",
       "4             2           1     0  "
      ]
     },
     "execution_count": 115,
     "metadata": {},
     "output_type": "execute_result"
    }
   ],
   "source": [
    "data_b.head()"
   ]
  },
  {
   "cell_type": "code",
   "execution_count": 116,
   "metadata": {},
   "outputs": [
    {
     "data": {
      "text/plain": [
       "<AxesSubplot:>"
      ]
     },
     "execution_count": 116,
     "metadata": {},
     "output_type": "execute_result"
    },
    {
     "data": {
      "image/png": "[encoded data removed]",
      "text/plain": [
       "<Figure size 1440x1440 with 2 Axes>"
      ]
     },
     "metadata": {
      "needs_background": "light"
     },
     "output_type": "display_data"
    }
   ],
   "source": [
    "correlação = data_b.corr()\n",
    "plt.figure(figsize=(20, 20))\n",
    "sns.heatmap(correlação, annot=True, cmap=\"Blues\")"
   ]
  }
 ],
 "metadata": {
  "kernelspec": {
   "display_name": "Python 3.10.4 64-bit",
   "language": "python",
   "name": "python3"
  },
  "language_info": {
   "codemirror_mode": {
    "name": "ipython",
    "version": 3
   },
   "file_extension": ".py",
   "mimetype": "text/x-python",
   "name": "python",
   "nbconvert_exporter": "python",
   "pygments_lexer": "ipython3",
   "version": "3.10.4"
  },
  "orig_nbformat": 4,
  "vscode": {
   "interpreter": {
    "hash": "0f4aad36e1a7834f44c14e84b98527cfbefef55e7a336cfec74130d804d73c8f"
   }
  }
 },
 "nbformat": 4,
 "nbformat_minor": 2
}
